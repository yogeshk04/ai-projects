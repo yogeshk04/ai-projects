{
 "cells": [
  {
   "cell_type": "markdown",
   "id": "9ea867e5",
   "metadata": {},
   "source": [
    "Appointment app"
   ]
  },
  {
   "cell_type": "code",
   "execution_count": 2,
   "id": "52c2118a",
   "metadata": {},
   "outputs": [],
   "source": [
    "from langgraph.graph import StateGraph\n",
    "from langgraph.graph.message import add_messages\n",
    "from openai import OpenAI"
   ]
  },
  {
   "cell_type": "code",
   "execution_count": 1,
   "id": "ab9cb4cf",
   "metadata": {},
   "outputs": [],
   "source": [
    "# Define the state graph\n",
    "class ChatState:\n",
    "    def __init__(self, messages=[], intent=None, slots=None):\n",
    "        self.messages = messages\n",
    "        self.intent = intent\n",
    "        self.slots = slots"
   ]
  },
  {
   "cell_type": "code",
   "execution_count": null,
   "id": "0de41ce1",
   "metadata": {},
   "outputs": [],
   "source": [
    "# Define Node for the initial state\n",
    "def detect_intent(state: ChatState):\n",
    "    # Use OpenAI to detect intent from the messages\n",
    "    response = OpenAI().chat.completions.create(\n",
    "        model=\"gpt-4\",\n",
    "        messages=state.messages,\n",
    "        max_tokens=50,\n",
    "        temperature=0.5 # Adjust temperature for creativity\n",
    "    )\n",
    "    state.intent = extract_intent(response.choices[0].message.content)\n",
    "    return state"
   ]
  }
 ],
 "metadata": {
  "kernelspec": {
   "display_name": ".venv",
   "language": "python",
   "name": "python3"
  },
  "language_info": {
   "codemirror_mode": {
    "name": "ipython",
    "version": 3
   },
   "file_extension": ".py",
   "mimetype": "text/x-python",
   "name": "python",
   "nbconvert_exporter": "python",
   "pygments_lexer": "ipython3",
   "version": "3.11.9"
  }
 },
 "nbformat": 4,
 "nbformat_minor": 5
}
