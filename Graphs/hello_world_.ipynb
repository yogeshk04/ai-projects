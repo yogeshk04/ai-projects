{
 "cells": [
  {
   "cell_type": "code",
   "execution_count": 3,
   "id": "193a4c86",
   "metadata": {},
   "outputs": [],
   "source": [
    "from typing import Dict, TypedDict\n",
    "from langgraph.graph import StateGraph # framework that helps you design and manage the flow of tasks in your application using a graph structure"
   ]
  },
  {
   "cell_type": "code",
   "execution_count": 4,
   "id": "3dbd84df",
   "metadata": {},
   "outputs": [],
   "source": [
    "# We now create an AgentState - shared data structure that keeps track of information as your application runs. \n",
    "\n",
    "class AgentState(TypedDict): # Our state schema\n",
    "    message : str \n",
    "\n",
    "\n",
    "def greeting_node(state: AgentState) -> AgentState:\n",
    "    \"\"\"Simple node that adds a greeting message to the state\"\"\"\n",
    "\n",
    "    state['message'] = \"Hey \" + state[\"message\"] + \", how is your day going?\"\n",
    "\n",
    "    return state "
   ]
  },
  {
   "cell_type": "code",
   "execution_count": 6,
   "id": "fcc62e47",
   "metadata": {},
   "outputs": [],
   "source": [
    "graph = StateGraph(AgentState)\n",
    "\n",
    "graph.add_node(\"boat\", greeting_node)\n",
    "\n",
    "graph.set_entry_point(\"boat\")\n",
    "graph.set_finish_point(\"boat\")\n",
    "\n",
    "app = graph.compile()"
   ]
  },
  {
   "cell_type": "code",
   "execution_count": 7,
   "id": "0200888a",
   "metadata": {},
   "outputs": [
    {
     "data": {
      "image/png": "[encoded data removed]",
      "text/plain": [
       "<IPython.core.display.Image object>"
      ]
     },
     "metadata": {},
     "output_type": "display_data"
    }
   ],
   "source": [
    "from IPython.display import Image, display\n",
    "display(Image(app.get_graph().draw_mermaid_png()))"
   ]
  },
  {
   "cell_type": "code",
   "execution_count": 8,
   "id": "5d14e235",
   "metadata": {},
   "outputs": [],
   "source": [
    "result = app.invoke({\"message\": \"Hello\"})"
   ]
  },
  {
   "cell_type": "code",
   "execution_count": null,
   "id": "6401adb2",
   "metadata": {},
   "outputs": [
    {
     "data": {
      "text/plain": [
       "'Hey Hello, how is your day going?'"
      ]
     },
     "execution_count": 9,
     "metadata": {},
     "output_type": "execute_result"
    }
   ],
   "source": [
    "result[\"message\"]"
   ]
  }
 ],
 "metadata": {
  "kernelspec": {
   "display_name": ".venv",
   "language": "python",
   "name": "python3"
  },
  "language_info": {
   "codemirror_mode": {
    "name": "ipython",
    "version": 3
   },
   "file_extension": ".py",
   "mimetype": "text/x-python",
   "name": "python",
   "nbconvert_exporter": "python",
   "pygments_lexer": "ipython3",
   "version": "3.12.1"
  }
 },
 "nbformat": 4,
 "nbformat_minor": 5
}
