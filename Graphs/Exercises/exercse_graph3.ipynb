{
 "cells": [
  {
   "cell_type": "markdown",
   "id": "501cb2bc",
   "metadata": {},
   "source": [
    "Exercise 3 "
   ]
  },
  {
   "cell_type": "code",
   "execution_count": 1,
   "id": "32753f98",
   "metadata": {},
   "outputs": [],
   "source": [
    "from typing import TypedDict\n",
    "from langgraph.graph import StateGraph\n"
   ]
  },
  {
   "cell_type": "code",
   "execution_count": 2,
   "id": "fb84ed87",
   "metadata": {},
   "outputs": [],
   "source": [
    "class AgetState(TypedDict):\n",
    "    name: str\n",
    "    age: str\n",
    "    skills: list\n",
    "    final_result: str"
   ]
  },
  {
   "cell_type": "code",
   "execution_count": 3,
   "id": "01521c40",
   "metadata": {},
   "outputs": [],
   "source": [
    "def first_node(state: AgetState) -> AgetState:\n",
    "    \"\"\"This is the first node in the graph. This node will grab the user's name.\"\"\"\n",
    "    \n",
    "    state['final_result'] = f\"{state['name']} welcome to the Aget Graph!\"\n",
    "    return state\n",
    "\n",
    "def second_node(state: AgetState) -> AgetState:\n",
    "    \"\"\"This is the second node in the graph. This node will grab the user's age.\"\"\"\n",
    "    \n",
    "    state['final_result'] += f\" You are {state['age']} years old.\"\n",
    "    return state\n",
    "\n",
    "def third_node(state: AgetState) -> AgetState:\n",
    "    \"\"\"This is the third node in the graph. This node will grab the user's skills.\"\"\"\n",
    "    \n",
    "    skills = ', '.join(state['skills'])\n",
    "    state['final_result'] += f\" Your skills are: {skills}.\"\n",
    "    return state"
   ]
  },
  {
   "cell_type": "code",
   "execution_count": 8,
   "id": "8a8e483c",
   "metadata": {},
   "outputs": [],
   "source": [
    "stateGraph = StateGraph(AgetState)\n",
    "\n",
    "stateGraph.add_node(\"personal_info\", first_node)\n",
    "stateGraph.add_node(\"age_info\", second_node)\n",
    "stateGraph.add_node(\"skills_info\", third_node)\n",
    "\n",
    "stateGraph.set_entry_point(\"personal_info\")\n",
    "stateGraph.add_edge(\"personal_info\", \"age_info\")\n",
    "stateGraph.add_edge(\"age_info\", \"skills_info\")\n",
    "stateGraph.set_finish_point(\"skills_info\")\n",
    "\n",
    "app = stateGraph.compile()"
   ]
  },
  {
   "cell_type": "code",
   "execution_count": 9,
   "id": "6c80f3e6",
   "metadata": {},
   "outputs": [
    {
     "data": {
      "image/png": "[encoded data removed]",
      "text/plain": [
       "<IPython.core.display.Image object>"
      ]
     },
     "metadata": {},
     "output_type": "display_data"
    }
   ],
   "source": [
    "from IPython.display import display, Image\n",
    "display(Image(app.get_graph().draw_mermaid_png()))"
   ]
  },
  {
   "cell_type": "code",
   "execution_count": 11,
   "id": "83e7ba0b",
   "metadata": {},
   "outputs": [],
   "source": [
    "result = app.invoke(\n",
    "    {\"name\": \"Ajay\", \"age\": \"30\", \"skills\": [\"Python\", \"Data Science\", \"Machine Learning\"]},\n",
    ")"
   ]
  },
  {
   "cell_type": "code",
   "execution_count": 12,
   "id": "8f1a3d22",
   "metadata": {},
   "outputs": [
    {
     "data": {
      "text/plain": [
       "'Ajay welcome to the Aget Graph! You are 30 years old. Your skills are: Python, Data Science, Machine Learning.'"
      ]
     },
     "execution_count": 12,
     "metadata": {},
     "output_type": "execute_result"
    }
   ],
   "source": [
    "result[\"final_result\"]  # This will contain the final result of the graph execution"
   ]
  }
 ],
 "metadata": {
  "kernelspec": {
   "display_name": ".venv",
   "language": "python",
   "name": "python3"
  },
  "language_info": {
   "codemirror_mode": {
    "name": "ipython",
    "version": 3
   },
   "file_extension": ".py",
   "mimetype": "text/x-python",
   "name": "python",
   "nbconvert_exporter": "python",
   "pygments_lexer": "ipython3",
   "version": "3.12.1"
  }
 },
 "nbformat": 4,
 "nbformat_minor": 5
}
