{
 "cells": [
  {
   "cell_type": "markdown",
   "id": "581324bb",
   "metadata": {},
   "source": [
    "Conditional Agent graph"
   ]
  },
  {
   "cell_type": "code",
   "execution_count": 8,
   "id": "4c9304e3",
   "metadata": {},
   "outputs": [],
   "source": [
    "from typing import TypedDict\n",
    "from langgraph.graph import StateGraph, START, END"
   ]
  },
  {
   "cell_type": "code",
   "execution_count": 9,
   "id": "be3aa41d",
   "metadata": {},
   "outputs": [],
   "source": [
    "class AgentState(TypedDict):\n",
    "    number1: int\n",
    "    operation: str\n",
    "    number2: int\n",
    "    finalNumber: int"
   ]
  },
  {
   "cell_type": "code",
   "execution_count": 10,
   "id": "58eafefb",
   "metadata": {},
   "outputs": [],
   "source": [
    "def adder(state: AgentState) -> AgentState:\n",
    "    state['finalNumber'] = state['number1'] + state['number2']\n",
    "    return state\n",
    "\n",
    "def subtractor(state: AgentState) -> AgentState:\n",
    "    state['finalNumber'] = state['number1'] - state['number2']\n",
    "    return state\n",
    "\n",
    "def decide_next_node(state: AgentState) -> AgentState:\n",
    "    \"\"\"This function decides which operation to perform based on the operation field.\"\"\"\n",
    "    if state['operation'] == 'add':\n",
    "        return \"add_operation\"\n",
    "    elif state['operation'] == 'subtract':\n",
    "        return \"substract_operation\"\n",
    "    else:\n",
    "        raise ValueError(\"Unknown operation\")"
   ]
  },
  {
   "cell_type": "code",
   "execution_count": 12,
   "id": "af4c9c28",
   "metadata": {},
   "outputs": [],
   "source": [
    "stateGraph = StateGraph(AgentState)\n",
    "\n",
    "stateGraph.add_node(\"add_node\", adder)\n",
    "stateGraph.add_node(\"substract_node\", subtractor)\n",
    "stateGraph.add_node(\"router\", lambda state:state) # passthrough function\n",
    "\n",
    "stateGraph.add_edge(START, \"router\")\n",
    "\n",
    "stateGraph.add_conditional_edges(\n",
    "    \"router\",\n",
    "    decide_next_node,\n",
    "    {\n",
    "        #Edge: Node\n",
    "        \"add_operation\": \"add_node\",\n",
    "        \"substract_operation\": \"substract_node\"        \n",
    "    }\n",
    ")\n",
    "\n",
    "stateGraph.add_edge(\"add_node\", END)\n",
    "stateGraph.add_edge(\"substract_node\", END)\n",
    "\n",
    "app = stateGraph.compile()\n"
   ]
  },
  {
   "cell_type": "code",
   "execution_count": 13,
   "id": "0b364a5b",
   "metadata": {},
   "outputs": [
    {
     "data": {
      "image/png": "[encoded data removed]",
      "text/plain": [
       "<IPython.core.display.Image object>"
      ]
     },
     "metadata": {},
     "output_type": "display_data"
    }
   ],
   "source": [
    "from IPython.display import display, Image\n",
    "display(Image(app.get_graph().draw_mermaid_png()))"
   ]
  },
  {
   "cell_type": "code",
   "execution_count": null,
   "id": "910bfdfe",
   "metadata": {},
   "outputs": [
    {
     "name": "stdout",
     "output_type": "stream",
     "text": [
      "{'number1': 10, 'operation': 'add', 'number2': 5, 'finalNumber': 15}\n"
     ]
    }
   ],
   "source": [
    "initial_state1 = AgentState(\n",
    "    number1=10,\n",
    "    operation='add',\n",
    "    number2=5,\n",
    "    #finalNumber=0\n",
    ")\n",
    "print(app.invoke(initial_state1))"
   ]
  },
  {
   "cell_type": "code",
   "execution_count": 15,
   "id": "a61c5971",
   "metadata": {},
   "outputs": [
    {
     "name": "stdout",
     "output_type": "stream",
     "text": [
      "{'number1': 10, 'operation': 'subtract', 'number2': 5, 'finalNumber': 5}\n"
     ]
    }
   ],
   "source": [
    "initial_state2 = AgentState(\n",
    "    number1=10,\n",
    "    operation='subtract',\n",
    "    number2=5,\n",
    ")\n",
    "print(app.invoke(initial_state2))\n",
    "# The output will show the finalNumber after performing the operation"
   ]
  },
  {
   "cell_type": "code",
   "execution_count": 17,
   "id": "ce21b005",
   "metadata": {},
   "outputs": [
    {
     "name": "stdout",
     "output_type": "stream",
     "text": [
      "{'number1': 10, 'operation': 'add', 'number2': 5, 'finalNumber': 15}\n"
     ]
    }
   ],
   "source": [
    "result = app.invoke({'number1': 10, 'operation': 'add', 'number2': 5})\n",
    "print(result)"
   ]
  }
 ],
 "metadata": {
  "kernelspec": {
   "display_name": ".venv",
   "language": "python",
   "name": "python3"
  },
  "language_info": {
   "codemirror_mode": {
    "name": "ipython",
    "version": 3
   },
   "file_extension": ".py",
   "mimetype": "text/x-python",
   "name": "python",
   "nbconvert_exporter": "python",
   "pygments_lexer": "ipython3",
   "version": "3.12.1"
  }
 },
 "nbformat": 4,
 "nbformat_minor": 5
}
