{
 "cells": [
  {
   "cell_type": "markdown",
   "id": "174f5bbc",
   "metadata": {},
   "source": [
    "Looping Graph"
   ]
  },
  {
   "cell_type": "code",
   "execution_count": 1,
   "id": "9076acd0",
   "metadata": {},
   "outputs": [],
   "source": [
    "from langgraph.graph import StateGraph, END\n",
    "import random\n",
    "from typing import Dict, List, TypedDict"
   ]
  },
  {
   "cell_type": "code",
   "execution_count": 2,
   "id": "018d7e34",
   "metadata": {},
   "outputs": [],
   "source": [
    "class AgentState(TypedDict):\n",
    "    name: str\n",
    "    number: List[int]\n",
    "    counter: int\n",
    "    "
   ]
  },
  {
   "cell_type": "code",
   "execution_count": 3,
   "id": "ba4f65f9",
   "metadata": {},
   "outputs": [],
   "source": [
    "def greeting_node(state: AgentState) -> AgentState:\n",
    "    \"\"\" A node that greets the user and initializes the state.\"\"\"\n",
    "    state['name'] = f\"Hi there, {state['name']}!\"\n",
    "    state['counter'] = 0\n",
    "    \n",
    "    return state\n",
    "\n",
    "def random_number_node(state: AgentState) -> AgentState:\n",
    "    \"\"\" A node that generates a random number and updates the state.\"\"\"\n",
    "    state['number'].append(random.randint(1, 100))\n",
    "    state['counter'] += 1\n",
    "    \n",
    "    return state\n",
    "\n",
    "def shoudl_continue_node(state: AgentState) -> AgentState:\n",
    "    \"\"\" Function to determine if the user wants to continue.\"\"\"\n",
    "    if state['counter'] < 5:\n",
    "        print(\"ENTERING LOOP\", state['counter'])\n",
    "        return \"loop\" # Continue to loop if less than 5 numbers generated\n",
    "    else:\n",
    "        return \"exit\" # Exit if 5 numbers have been generated"
   ]
  },
  {
   "cell_type": "code",
   "execution_count": 5,
   "id": "1b539c6a",
   "metadata": {},
   "outputs": [],
   "source": [
    "stateGraph = StateGraph(AgentState)\n",
    "\n",
    "stateGraph.add_node(\"greeting\", greeting_node)\n",
    "stateGraph.add_node(\"random_number\", random_number_node)\n",
    "stateGraph.add_edge(\"greeting\", \"random_number\")\n",
    "\n",
    "stateGraph.add_conditional_edges(\n",
    "    \"random_number\",\n",
    "    shoudl_continue_node,\n",
    "    {\n",
    "        \"loop\": \"random_number\",\n",
    "        \"exit\": END\n",
    "    }\n",
    ")\n",
    "\n",
    "stateGraph.set_entry_point(\"greeting\")\n",
    "\n",
    "app = stateGraph.compile()\n"
   ]
  },
  {
   "cell_type": "code",
   "execution_count": 6,
   "id": "21df5842",
   "metadata": {},
   "outputs": [
    {
     "data": {
      "image/png": "[encoded data removed]",
      "text/plain": [
       "<IPython.core.display.Image object>"
      ]
     },
     "metadata": {},
     "output_type": "display_data"
    }
   ],
   "source": [
    "from IPython.display import display, Image\n",
    "display(Image(app.get_graph().draw_mermaid_png()))"
   ]
  },
  {
   "cell_type": "code",
   "execution_count": 7,
   "id": "fe706eed",
   "metadata": {},
   "outputs": [
    {
     "name": "stdout",
     "output_type": "stream",
     "text": [
      "ENTERING LOOP 1\n",
      "ENTERING LOOP 2\n",
      "ENTERING LOOP 3\n",
      "ENTERING LOOP 4\n"
     ]
    },
    {
     "data": {
      "text/plain": [
       "{'name': 'Hi there, Anurag!', 'number': [62, 27, 48, 84, 46], 'counter': 5}"
      ]
     },
     "execution_count": 7,
     "metadata": {},
     "output_type": "execute_result"
    }
   ],
   "source": [
    "app.invoke(\n",
    "    {\"name\": \"Anurag\", \"number\": [], \"counter\": -1} \n",
    ")"
   ]
  }
 ],
 "metadata": {
  "kernelspec": {
   "display_name": ".venv",
   "language": "python",
   "name": "python3"
  },
  "language_info": {
   "codemirror_mode": {
    "name": "ipython",
    "version": 3
   },
   "file_extension": ".py",
   "mimetype": "text/x-python",
   "name": "python",
   "nbconvert_exporter": "python",
   "pygments_lexer": "ipython3",
   "version": "3.12.1"
  }
 },
 "nbformat": 4,
 "nbformat_minor": 5
}
